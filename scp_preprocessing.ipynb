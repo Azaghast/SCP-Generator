{
 "cells": [
  {
   "cell_type": "code",
   "execution_count": 1,
   "metadata": {},
   "outputs": [],
   "source": [
    "#training the tokenizer - imports\n",
    "\n",
    "from tokenizers import Tokenizer\n",
    "from tokenizers.decoders import ByteLevel as ByteLevelDecoder\n",
    "from tokenizers.models import BPE\n",
    "from tokenizers.normalizers import Lowercase, NFKC, Sequence\n",
    "from tokenizers.pre_tokenizers import ByteLevel\n",
    "from tokenizers.trainers import BpeTrainer\n",
    "import pandas as pd\n",
    "import numpy as np"
   ]
  },
  {
   "cell_type": "code",
   "execution_count": 2,
   "metadata": {},
   "outputs": [],
   "source": [
    "#training the tokenizer - specifying file path\n",
    "\n",
    "path = \"D:\\\\Datasets\\\\test_scp_store.csv\"\n",
    "scp = pd.read_csv(path)\n",
    "scp = scp.drop([0])"
   ]
  },
  {
   "cell_type": "code",
   "execution_count": 3,
   "metadata": {},
   "outputs": [
    {
     "data": {
      "text/html": [
       "<div>\n",
       "<style scoped>\n",
       "    .dataframe tbody tr th:only-of-type {\n",
       "        vertical-align: middle;\n",
       "    }\n",
       "\n",
       "    .dataframe tbody tr th {\n",
       "        vertical-align: top;\n",
       "    }\n",
       "\n",
       "    .dataframe thead th {\n",
       "        text-align: right;\n",
       "    }\n",
       "</style>\n",
       "<table border=\"1\" class=\"dataframe\">\n",
       "  <thead>\n",
       "    <tr style=\"text-align: right;\">\n",
       "      <th></th>\n",
       "      <th>SCP_Number</th>\n",
       "      <th>Object_Class</th>\n",
       "      <th>Special_Containment_Procedures</th>\n",
       "      <th>Description</th>\n",
       "      <th>Misc_Details</th>\n",
       "    </tr>\n",
       "  </thead>\n",
       "  <tbody>\n",
       "    <tr>\n",
       "      <th>count</th>\n",
       "      <td>953</td>\n",
       "      <td>953</td>\n",
       "      <td>953</td>\n",
       "      <td>953</td>\n",
       "      <td>953</td>\n",
       "    </tr>\n",
       "    <tr>\n",
       "      <th>unique</th>\n",
       "      <td>926</td>\n",
       "      <td>75</td>\n",
       "      <td>943</td>\n",
       "      <td>953</td>\n",
       "      <td>953</td>\n",
       "    </tr>\n",
       "    <tr>\n",
       "      <th>top</th>\n",
       "      <td>[' Safe']</td>\n",
       "      <td>[' Safe']</td>\n",
       "      <td>[]</td>\n",
       "      <td>[' SCP-1833 is a copy of the 1976 edition ████...</td>\n",
       "      <td>['SCP-1947 photographed shortly after discover...</td>\n",
       "    </tr>\n",
       "    <tr>\n",
       "      <th>freq</th>\n",
       "      <td>17</td>\n",
       "      <td>400</td>\n",
       "      <td>11</td>\n",
       "      <td>1</td>\n",
       "      <td>1</td>\n",
       "    </tr>\n",
       "  </tbody>\n",
       "</table>\n",
       "</div>"
      ],
      "text/plain": [
       "       SCP_Number Object_Class Special_Containment_Procedures  \\\n",
       "count         953          953                            953   \n",
       "unique        926           75                            943   \n",
       "top     [' Safe']    [' Safe']                             []   \n",
       "freq           17          400                             11   \n",
       "\n",
       "                                              Description  \\\n",
       "count                                                 953   \n",
       "unique                                                953   \n",
       "top     [' SCP-1833 is a copy of the 1976 edition ████...   \n",
       "freq                                                    1   \n",
       "\n",
       "                                             Misc_Details  \n",
       "count                                                 953  \n",
       "unique                                                953  \n",
       "top     ['SCP-1947 photographed shortly after discover...  \n",
       "freq                                                    1  "
      ]
     },
     "execution_count": 3,
     "metadata": {},
     "output_type": "execute_result"
    }
   ],
   "source": [
    "scp.describe()"
   ]
  },
  {
   "cell_type": "code",
   "execution_count": 4,
   "metadata": {},
   "outputs": [
    {
     "data": {
      "text/plain": [
       "SCP_Number                                                                [' Safe']\n",
       "Object_Class                      [' All acquired instances of SCP-1224 must be ...\n",
       "Special_Containment_Procedures                                                   []\n",
       "Description                       [' SCP-1224 is a set of 17 instances of \"Dr. W...\n",
       "Misc_Details                      [\"<p>Dr. Wondertainment's Super Science Sets™!...\n",
       "Name: 216, dtype: object"
      ]
     },
     "execution_count": 4,
     "metadata": {},
     "output_type": "execute_result"
    }
   ],
   "source": [
    "scp.iloc[215]"
   ]
  },
  {
   "cell_type": "code",
   "execution_count": 5,
   "metadata": {},
   "outputs": [],
   "source": [
    "clean_classes = scp.loc[scp['Object_Class'].str.contains(' Euclid*| Keter*| Safe*| Neutralized*| Thaumiel*')]\n",
    "\n",
    "unique_classes = []\n",
    "for i in clean_classes['Object_Class']:\n",
    "    if i not in unique_classes and len(i)<23:\n",
    "        unique_classes.append(i)"
   ]
  },
  {
   "cell_type": "code",
   "execution_count": 6,
   "metadata": {},
   "outputs": [],
   "source": [
    "for i in range(1,len(scp['Object_Class'])):    \n",
    "    if len(scp.loc[i]['Special_Containment_Procedures']) > 2:\n",
    "        if scp.loc[i]['Object_Class'] not in unique_classes:\n",
    "            if scp.loc[i]['SCP_Number'] in unique_classes:\n",
    "                scp.loc[i]['Object_Class'] = scp.loc[i]['SCP_Number']\n",
    "            else:\n",
    "                scp.loc[i]['Object_Class'] =' Euclid' \n",
    "    else:\n",
    "        if scp.loc[i]['Object_Class'] not in unique_classes:\n",
    "            if scp.loc[i]['SCP_Number'][3:6] != 'SCP' and scp.loc[i]['SCP_Number'] not in unique_classes:\n",
    "                scp.loc[i]['Object_Class'] = ' Euclid'\n",
    "                scp.loc[i]['Special_Containment_Procedures'] = scp.loc[i]['SCP_Number']\n",
    "            elif scp.loc[i]['SCP_Number'] in unique_classes:\n",
    "                scp.loc[i]['Special_Containment_Procedures'] = scp.loc[i]['Object_Class']\n",
    "                scp.loc[i]['Object_Class'] = scp.loc[i]['SCP_Number']\n",
    "\n",
    "scp = scp.drop('SCP_Number',axis=1)"
   ]
  },
  {
   "cell_type": "code",
   "execution_count": 7,
   "metadata": {},
   "outputs": [
    {
     "data": {
      "text/html": [
       "<div>\n",
       "<style scoped>\n",
       "    .dataframe tbody tr th:only-of-type {\n",
       "        vertical-align: middle;\n",
       "    }\n",
       "\n",
       "    .dataframe tbody tr th {\n",
       "        vertical-align: top;\n",
       "    }\n",
       "\n",
       "    .dataframe thead th {\n",
       "        text-align: right;\n",
       "    }\n",
       "</style>\n",
       "<table border=\"1\" class=\"dataframe\">\n",
       "  <thead>\n",
       "    <tr style=\"text-align: right;\">\n",
       "      <th></th>\n",
       "      <th>Object_Class</th>\n",
       "      <th>Special_Containment_Procedures</th>\n",
       "      <th>Description</th>\n",
       "      <th>Misc_Details</th>\n",
       "    </tr>\n",
       "  </thead>\n",
       "  <tbody>\n",
       "    <tr>\n",
       "      <th>count</th>\n",
       "      <td>953</td>\n",
       "      <td>953</td>\n",
       "      <td>953</td>\n",
       "      <td>953</td>\n",
       "    </tr>\n",
       "    <tr>\n",
       "      <th>unique</th>\n",
       "      <td>17</td>\n",
       "      <td>953</td>\n",
       "      <td>953</td>\n",
       "      <td>953</td>\n",
       "    </tr>\n",
       "    <tr>\n",
       "      <th>top</th>\n",
       "      <td>[' Safe']</td>\n",
       "      <td>[[' SCP-1213 is to be strapped immobile in a l...</td>\n",
       "      <td>[' SCP-1833 is a copy of the 1976 edition ████...</td>\n",
       "      <td>['SCP-1947 photographed shortly after discover...</td>\n",
       "    </tr>\n",
       "    <tr>\n",
       "      <th>freq</th>\n",
       "      <td>417</td>\n",
       "      <td>1</td>\n",
       "      <td>1</td>\n",
       "      <td>1</td>\n",
       "    </tr>\n",
       "  </tbody>\n",
       "</table>\n",
       "</div>"
      ],
      "text/plain": [
       "       Object_Class                     Special_Containment_Procedures  \\\n",
       "count           953                                                953   \n",
       "unique           17                                                953   \n",
       "top       [' Safe']  [[' SCP-1213 is to be strapped immobile in a l...   \n",
       "freq            417                                                  1   \n",
       "\n",
       "                                              Description  \\\n",
       "count                                                 953   \n",
       "unique                                                953   \n",
       "top     [' SCP-1833 is a copy of the 1976 edition ████...   \n",
       "freq                                                    1   \n",
       "\n",
       "                                             Misc_Details  \n",
       "count                                                 953  \n",
       "unique                                                953  \n",
       "top     ['SCP-1947 photographed shortly after discover...  \n",
       "freq                                                    1  "
      ]
     },
     "execution_count": 7,
     "metadata": {},
     "output_type": "execute_result"
    }
   ],
   "source": [
    "scp.describe()"
   ]
  },
  {
   "cell_type": "code",
   "execution_count": 8,
   "metadata": {},
   "outputs": [
    {
     "data": {
      "text/plain": [
       "Object_Class                                                              [' Safe']\n",
       "Special_Containment_Procedures    [' All acquired instances of SCP-1224 must be ...\n",
       "Description                       [' SCP-1224 is a set of 17 instances of \"Dr. W...\n",
       "Misc_Details                      [\"<p>Dr. Wondertainment's Super Science Sets™!...\n",
       "Name: 216, dtype: object"
      ]
     },
     "execution_count": 8,
     "metadata": {},
     "output_type": "execute_result"
    }
   ],
   "source": [
    "scp.iloc[215]"
   ]
  },
  {
   "cell_type": "code",
   "execution_count": 11,
   "metadata": {},
   "outputs": [],
   "source": [
    "object_class = scp['Object_Class']\n",
    "containment = scp['Special_Containment_Procedures']\n",
    "description = scp['Description']\n",
    "misc = scp['Misc_Details']"
   ]
  },
  {
   "cell_type": "code",
   "execution_count": 24,
   "metadata": {},
   "outputs": [],
   "source": [
    "object_class.to_csv('D:\\\\Datasets\\\\object_classes.csv')\n",
    "containment.to_csv('D:\\\\Datasets\\\\containment_procedures.csv')\n",
    "description.to_csv('D:\\\\Datasets\\\\descriptions.csv')\n",
    "misc.to_csv('D:\\\\Datasets\\\\misc_details.csv')"
   ]
  },
  {
   "cell_type": "code",
   "execution_count": null,
   "metadata": {},
   "outputs": [],
   "source": []
  }
 ],
 "metadata": {
  "kernelspec": {
   "display_name": "Python 3",
   "language": "python",
   "name": "python3"
  },
  "language_info": {
   "codemirror_mode": {
    "name": "ipython",
    "version": 3
   },
   "file_extension": ".py",
   "mimetype": "text/x-python",
   "name": "python",
   "nbconvert_exporter": "python",
   "pygments_lexer": "ipython3",
   "version": "3.7.7"
  }
 },
 "nbformat": 4,
 "nbformat_minor": 4
}
