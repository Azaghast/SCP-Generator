{
 "cells": [
  {
   "cell_type": "code",
   "execution_count": 2,
   "metadata": {},
   "outputs": [],
   "source": [
    "from transformers import GPT2LMHeadModel\n",
    "\n",
    "model = GPT2LMHeadModel.from_pretrained('C:\\\\Users\\\\Azaghast\\\\GPT2_Finetune\\\\GPT2_Finetuned_Weights')"
   ]
  },
  {
   "cell_type": "code",
   "execution_count": 35,
   "metadata": {},
   "outputs": [],
   "source": [
    "from transformers import GPT2Tokenizer\n",
    "\n",
    "tokenizer = tokenizer = GPT2Tokenizer.from_pretrained('C:\\\\Users\\\\Azaghast\\\\GPT2_Finetune\\\\GPT2_Finetuned_Weights')"
   ]
  },
  {
   "cell_type": "code",
   "execution_count": 36,
   "metadata": {},
   "outputs": [],
   "source": [
    "prompt = \"<BOS> SCP-2798\"\n",
    "inputs = tokenizer.encode(prompt, add_special_tokens=True, return_tensors=\"pt\")"
   ]
  },
  {
   "cell_type": "code",
   "execution_count": 37,
   "metadata": {},
   "outputs": [
    {
     "name": "stderr",
     "output_type": "stream",
     "text": [
      "Setting `pad_token_id` to 50256 (first `eos_token_id`) to generate sequence\n"
     ]
    }
   ],
   "source": [
    "outputs = model.generate(inputs, max_length=250, do_sample=True, top_p=0.95, top_k=60)"
   ]
  },
  {
   "cell_type": "code",
   "execution_count": 38,
   "metadata": {},
   "outputs": [
    {
     "data": {
      "text/plain": [
       "tensor([[50257, 48956,    12,  1983,  4089, 10874,   286,  8208,    12, 13261,\n",
       "           357,  1495,     8,  4553,  3709,   351,  4553, 26921,   516,  6608,\n",
       "          1626,  1123,   584,    13,  5501,  2378,   318,  3748,   287,   663,\n",
       "           898,   835,    13,  2312,  3709,   389,  6007,   286,  6249, 10890,\n",
       "           597,  8122,   287,   663,  4931,   290, 20884,   340,   284,   257,\n",
       "           966,   810,   340,   460,   645, 50259,    83,   567,    69, 38229,\n",
       "            13,   554,  3090,    11,   645,  5931,  6317,   468,   587,  6515,\n",
       "           284,  8343,   777,  6608,    13, 50258, 46083,  1279,   368,    29,\n",
       "            43,   538,   312, 32563,    64,  1928, 17576,  3556,   368, 22330,\n",
       "           705,   357,   439,  5107,   286, 22206, 21027,   828,   705,   357,\n",
       "          1169, 35341, 21027,   828,   290, 46083,  1279,   368,    29, 28348,\n",
       "           385,  8352,  1472,    71,  2047,   354,   418,  3556,   368, 22330,\n",
       "           705,   357,  1169, 35341, 30135,     8,   389,  6007,   286, 20884,\n",
       "           284,   257,   966,   810,   484,   460,   645,  2392, 26633,    13,\n",
       "          5501,  4554,   286, 17527,    12,  1983,  4089,   318,  3058, 23707,\n",
       "           287,   257, 20596, 20596,  5405,  8837,   287,   262,  8372,  8211,\n",
       "         10692,   287,   257, 20596,    12, 44822,   269,  5540,  9967,  5103,\n",
       "          8837,  5140,  1474, 23287, 20503,  8115,    11, 10202,    13,   317,\n",
       "          4553, 37149,  1989,   318,  3058,   852, 12006,   379, 14413,    12,\n",
       "         17657,   329, 17527,    12,  1983,  4089,    12,    16,    26,   257,\n",
       "         37149,  1989,   286, 17527,    12,  1983,  4089,    12,    17,   290,\n",
       "         17527,    12,  1983,  4089,    12,    18,   481,  3520,  2641, 17527,\n",
       "            12,  1983,  4089,   981,   477,  6370,   284,  1895,   606,   389,\n",
       "          9242,  1431,   416,   597,  1724,   326,   743,  4419,   606,    26,\n",
       "         37149,  6554,  3058,  7953,   287, 37149,   290, 50122, 17527,    12]])"
      ]
     },
     "execution_count": 38,
     "metadata": {},
     "output_type": "execute_result"
    }
   ],
   "source": [
    "outputs"
   ]
  },
  {
   "cell_type": "code",
   "execution_count": 41,
   "metadata": {},
   "outputs": [
    {
     "name": "stdout",
     "output_type": "stream",
     "text": [
      "SCP-2798 consists of twenty-five (25) separate items with separate anomalous properties within each other. Each item is unique in its own way. These items are capable of dissolving any liquid in its presence and freezing it to a point where it can noterefringe. In addition, no chemical reaction has been observed to alter these properties. ', <em>Lepidoptera musculus</em>,'(all forms of whale shark),'(the predatory shark), and ', <em>Pinus macrorhynchos</em>,'(the predatory predator) are capable of freezing to a point where they can no longer swallow. Each instance of SCP-2798 is currently housed in a hollow hollow glass vessel in the southern Pacific Ocean in a hollow-steel cinderblock construction vessel located near ██████, Utah. A separate containment area is currently being constructed at Site-117 for SCP-2798-1; a containment area of SCP-2798-2 and SCP-2798-3 will remain inside SCP-2798 while all attempts to access them are nullified by any means that may harm them; containment agents currently engaged in containment and retrieving SCP-\n"
     ]
    }
   ],
   "source": [
    "print(tokenizer.decode(outputs[0], skip_special_tokens=True))"
   ]
  },
  {
   "cell_type": "code",
   "execution_count": null,
   "metadata": {},
   "outputs": [],
   "source": []
  }
 ],
 "metadata": {
  "kernelspec": {
   "display_name": "Python [conda env:conda_tfgpu_testenv] *",
   "language": "python",
   "name": "conda-env-conda_tfgpu_testenv-py"
  },
  "language_info": {
   "codemirror_mode": {
    "name": "ipython",
    "version": 3
   },
   "file_extension": ".py",
   "mimetype": "text/x-python",
   "name": "python",
   "nbconvert_exporter": "python",
   "pygments_lexer": "ipython3",
   "version": "3.7.7"
  }
 },
 "nbformat": 4,
 "nbformat_minor": 4
}
